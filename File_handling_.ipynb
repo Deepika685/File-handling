{
  "nbformat": 4,
  "nbformat_minor": 0,
  "metadata": {
    "colab": {
      "provenance": []
    },
    "kernelspec": {
      "name": "python3",
      "display_name": "Python 3"
    },
    "language_info": {
      "name": "python"
    }
  },
  "cells": [
    {
      "cell_type": "markdown",
      "source": [
        "1. What is the difference between interpreted and compiled languages?\n",
        "   1. Interpreted Languages:\n",
        "Process: The source code is not compiled beforehand. Instead, it is translated into machine code line-by-line or instruction-by-instruction by an interpreter at runtime.\n",
        "   - Execution: The interpreter reads and executes the code directly, which means the source code is required every time you run the program.\n",
        "   - Speed: Interpreted languages tend to be slower than compiled ones because translation happens during execution, not beforehand.\n",
        "   - Examples: Python, JavaScript, Ruby, PHP.\n",
        "\n",
        "   2. Compiled Languages:\n",
        "Process: The entire source code is translated into machine code (binary code) by a compiler before it is executed. This means that the code is converted into an executable file, and the program can be run directly by the operating system.\n",
        "   - Execution: The compiled program runs directly from the executable file without needing the source code or a compiler at runtime.\n",
        "   - Speed: Since the translation is done before execution, compiled languages generally run faster because they are already in machine-readable format.\n",
        "   - Examples: C, C++, Rust, Go.\n",
        "\n",
        "2. What is exception handling in Python?\n",
        "   - Exception handling in Python is a mechanism to deal with errors that occur during the execution of a program. Rather than letting an error crash the program, exception handling allows you to catch and respond to exceptions (errors) gracefully.An event that occurs during the execution of a program that disrupts its normal flow. This could be things like division by zero, trying to open a non-existent file, or accessing an index that’s out of range.\n",
        "\n",
        "3. What is the purpose of the finally block in exception handling?\n",
        "   - The purpose of the finally block in exception handling is to define a set of instructions that will always be executed, no matter whether an exception occurred or not. This block is typically used for cleanup operations, such as closing files, releasing resources, or performing other tasks that need to be done regardless of whether an error was encountered in the try or except blocks.\n",
        "   - The code inside the finally block will run even if No exception occurred.An exception occurred and was caught by the except block.An exception occurred and wasn't caught (in which case the exception will propagate after the finally block is executed).   \n",
        "\n",
        "4. What is logging in Python?\n",
        "   - Logging in Python is a way to record or track events, messages, and errors during the execution of a program. It is particularly useful for debugging, monitoring, and maintaining applications. The logging module in Python provides a flexible framework for outputting log messages to various destinations, such as the console, files, or external systems.\n",
        "\n",
        "5. What is the significance of the __del__ method in Python?\n",
        "   - In Python, the __del__ method is a special method known as a destructor. It is automatically called when an object is about to be destroyed or garbage collected. The primary purpose of the __del__ method is to define cleanup actions that should be performed before an object is removed from memory, such as releasing external resources (e.g., closing files or network connections).\n",
        "   - Garbage Collection: Python uses garbage collection to manage memory, and the __del__ method is part of the cleanup process. However, it is not guaranteed to be called immediately when an object is no longer referenced, especially when circular references exist.\n",
        "   - Circular References: If objects reference each other in a cycle (e.g., two objects reference each other), the garbage collector may not be able to delete them immediately, which may delay or prevent the __del__ method from being called.\n",
        "   - Finalization: The __del__ method should be used carefully, and its behavior may vary depending on the implementation details of Python’s garbage collector.  \n",
        "\n",
        "6. What is the difference between import and from ... import in Python?\n",
        "   1. import Statement\n",
        "The import statement allows you to import a whole module or package, and then you use the module’s name to access its functions, classes, or variables.\n",
        "   2. from ... import Statement\n",
        "The from ... import statement is used to import specific attributes (functions, classes, variables) from a module or package directly into the current namespace, so you don’t need to reference the module name each time.\n",
        "\n",
        "7. How can you handle multiple exceptions in Python?\n",
        "   - In Python, you can handle multiple exceptions in a few different ways, depending on how you want to structure your error handling.\n",
        "   1. Using Multiple except Blocks\n",
        "You can catch different exceptions by using multiple except blocks. This allows you to handle different types of exceptions in different ways.\n",
        "   2. Handling Multiple Exceptions in a Single except Block\n",
        "You can also catch multiple exceptions in a single except block by specifying them as a tuple.\n",
        "   3. Using else and finally with Multiple Exceptions\n",
        "You can also combine else and finally with multiple except blocks to handle code that should run if no exception occurs (else) or code that should always run (finally), regardless of whether an exception was raised.\n",
        "\n",
        "8. What is the purpose of the with statement when handling files in Python?\n",
        "   - The with statement in Python is used to wrap the execution of a block of code in a context manager, which automatically takes care of setup and cleanup operations. When dealing with files, the with statement ensures that files are properly opened and closed after the block of code is executed, even if an exception occurs. This is particularly useful for handling file operations, where you need to make sure files are closed after you're done working with them, avoiding potential resource leaks.\n",
        "\n",
        "9. What is the difference between multithreading and multiprocessing?   \n",
        "   1. Multithreading: Multithreading is a technique where multiple threads within a single process share the same memory space and can execute tasks concurrently. Threads are lightweight compared to processes and are best used for I/O-bound tasks (e.g., file operations, network communication).\n",
        "   - Threads within the same process share the same memory space. This means they can easily communicate with each other, but it also introduces the potential for race conditions (where multiple threads try to access shared data simultaneously and cause inconsistent results).\n",
        "\n",
        "   2. Multiprocessing: Multiprocessing involves running multiple processes, each with its own memory space and resources. This approach is more suitable for CPU-bound tasks, where each process runs independently and can utilize multiple cores of a CPU for true parallelism.\n",
        "   - Each process has its own memory space, meaning there is no direct memory sharing between processes. While this avoids race conditions, it also makes communication between processes more complex (usually requiring inter-process communication mechanisms like pipes, queues, or shared memory).\n",
        "\n",
        "10. What are the advantages of using logging in a program?   \n",
        "   - Logging provides a structured, persistent way to capture information, errors, warnings, and other significant events during program execution.\n",
        "   - Logs are typically saved in files, databases, or other logging systems, allowing you to persistently record program behavior, which can be useful for debugging, monitoring, and audit trails.\n",
        "   - Unlike print statements, which disappear once the program terminates, logs are saved for future reference and can be analyzed even after the program has stopped.\n",
        "   - The logging module in Python allows you to categorize log messages by severity using different log levels (e.g., DEBUG, INFO, WARNING, ERROR, CRITICAL).\n",
        "\n",
        "11. What is memory management in Python?\n",
        "   - Memory management in Python refers to the process of efficiently allocating, using, and freeing memory during the execution of a Python program. Python has an automatic memory management system, which simplifies the developer's task of managing memory manually.\n",
        "\n",
        "12.  What are the basic steps involved in exception handling in Python?\n",
        "   - Exception handling in Python is a mechanism to handle errors (or exceptions) that occur during the execution of a program. This ensures that the program can continue running or exit gracefully, rather than crashing. The basic steps involved in exception handling in Python are:\n",
        "   1. Try Block\n",
        "The try block is used to wrap the code that might raise an exception. This block contains the code that you want to test for potential errors.\n",
        "   2. Except Block\n",
        "The except block follows the try block and is executed when an exception is raised. You can catch specific exceptions by specifying the type of exception you want to handle (e.g., ZeroDivisionError, ValueError), or you can catch all exceptions using a generic except.\n",
        "   3. Else Block (Optional)\n",
        "The else block is optional and is executed if no exceptions were raised in the try block.\n",
        "   4. Finally Block (Optional)\n",
        "The finally block is optional and is always executed, regardless of whether an exception occurred or not. It's often used for cleanup actions (e.g., closing files or network connections).\n",
        "\n",
        "13. Why is memory management important in Python?\n",
        "   -  In any computer system, memory is a limited resource. Proper memory management ensures that the program uses memory efficiently, allowing it to run smoothly without consuming excessive resources or causing memory shortages.\n",
        "   -  Efficient memory management can prevent unnecessary memory consumption, leading to better performance. Without effective memory management, a program might consume more memory than needed, leading to slower performance, especially in large-scale applications or when working with data-heavy operations.\n",
        "   - A memory leak occurs when a program allocates memory but fails to release it after it's no longer needed. Over time, memory leaks can accumulate, causing a program to consume more memory than necessary. In Python, garbage collection and reference counting help prevent memory leaks by automatically cleaning up unused objects, but developers must still be cautious about unintentional references.\n",
        "\n",
        "14. What is the role of try and except in exception handling?\n",
        "   - Role of try Block\n",
        "The try block is where you write the code that might raise an exception. It contains the operations or instructions that could potentially lead to an error during execution.If an error occurs inside the try block, Python stops executing the remaining code in that block and immediately looks for an except block that can handle the exception.    \n",
        "\n",
        "   - Role of except Block\n",
        "The except block follows the try block and catches the exception raised within the try block. It defines what should happen when a specific exception occurs.If an exception is raised inside the try block, Python looks for an except block that matches the type of exception. If a match is found, the code inside the except block is executed.The except block prevents the program from crashing by handling the error in a controlled manner. You can handle the exception in various ways, such as printing an error message, logging the error, or attempting a recovery.\n",
        "\n",
        "15. How does Python's garbage collection system work?\n",
        "   - Python's garbage collection system is designed to automatically manage memory, freeing up memory that is no longer being used by objects, thus helping to prevent memory leaks and making programs more efficient. The primary mechanism Python uses for garbage collection involves reference counting and a cyclic garbage collector.\n",
        "   - Reference counting is the core mechanism Python uses to manage memory. Every object in Python has an associated reference count, which tracks how many references (or pointers) exist to that object.\n",
        "   - When you create a new reference to an object, Python increments the reference count. When a reference is removed (i.e., it goes out of scope, or you explicitly delete it using del), the reference count is decremented.\n",
        "   - When the reference count of an object reaches zero, meaning no references point to that object, Python automatically frees the memory associated with that object.\n",
        "\n",
        "16. What is the purpose of the else block in exception handling?\n",
        "   - Purpose of the else Block:\n",
        "Execute code after a successful try block: If the code inside the try block runs without raising any exceptions, the code in the else block will execute.\n",
        "   - Separate normal code from exception handling: It makes your code clearer by separating the logic that runs when no exceptions occur from the error-handling code in the except block.   \n",
        "   - The else block in Python's exception handling system is used to define code that should run only if no exception was raised in the try block. It provides a way to separate the normal execution of code (that doesn't result in an exception) from the exception handling part.\n",
        "\n",
        "17. What are the common logging levels in Python?\n",
        "   - n Python, the logging module provides a flexible framework for logging messages from your program, allowing you to track events, errors, and other runtime information. The logging system has different log levels that help categorize the severity or importance of the messages. Here are the common logging levels in Python:\n",
        "   1. DEBUG\n",
        "The lowest level, used for detailed information, typically useful for diagnosing problems and debugging. To provide diagnostic information that’s helpful during development and debugging. These messages can contain a lot of detail and are usually turned off in a production environment to avoid unnecessary log clutter.   \n",
        "   2. INFO\n",
        "Used for general information that’s useful for tracking the normal operation of a program. These messages provide insights into the flow of the program. To indicate regular program operation, such as the start and completion of tasks, or milestones. This level is typically used to log events that are expected in a healthy, running application.\n",
        "   3. WARNING\n",
        "Indicates a warning about a potential problem or situation that may lead to issues in the future but doesn’t stop the program from continuing.\n",
        "To highlight non-critical issues that the developer should be aware of. It’s used when something unusual happens but isn’t necessarily an error.\n",
        "\n",
        "\n",
        "18. What is the difference between os.fork() and multiprocessing in Python?\n",
        "   - os.fork():\n",
        "   The os.fork() function is a low-level way to create a new process in Python. It is available only on Unix-based systems (Linux, macOS). When called, it splits the current process into two processes.The original process that called fork(). A copy of the parent process, with its own memory and execution context\n",
        "   - multiprocessing Module:\n",
        "The multiprocessing module provides a higher-level, cross-platform way of creating and managing processes. It abstracts the complexities of process creation, communication, and synchronization, and works on both Unix-like systems and Windows.\n",
        "\n",
        "19. What is the importance of closing a file in Python?\n",
        "   - In Python, closing a file is an important step when working with file handling operations. When you open a file using open(), it creates a connection between your program and the file, allowing you to read from or write to it.\n",
        "   - When a file is opened, the operating system allocates system resources (like memory, file handles, or buffers) to handle that file. If you don’t close the file, these resources remain allocated, which can lead to resource leakage or hitting system limits on the number of open files.\n",
        "   - Each open file consumes a file handle (a pointer used by the OS to manage file access). If you don't close the file, it keeps the file handle open, potentially exhausting the available handles and causing issues with opening other files.\n",
        "\n",
        "\n",
        "20. What is the difference between file.read() and file.readline() in Python?\n",
        "   1. file.read(): Reads the entire contents of the file at once.\n",
        "   - How it works:\n",
        "     It reads the entire file and returns it as a single string.If the file is large, this can consume a lot of memory, so it's not recommended for reading large files all at once.If a size argument is passed, it will read that many bytes (characters for text files) from the file.When you want to read the whole file in one go or want to specify the number of bytes to read.\n",
        "   2. file.readline(): Reads one line at a time from the file.\n",
        "   - How it works:\n",
        "     It reads and returns the next line from the file as a string, including the newline character (\\n).After each call, the file's cursor moves to the beginning of the next line.This method is useful when you want to process a file line by line without loading the entire content into memory. When you want to read the file line by line, which is especially useful for large files where reading the entire content into memory would be inefficient.\n",
        "\n",
        "\n",
        "21. What is the logging module in Python used for?\n",
        "   - The logging module in Python is used to implement logging functionality, allowing you to record and track events, errors, warnings, and informational messages in your programs. It provides a flexible framework for generating log messages from your application, which is useful for debugging, monitoring, and keeping track of how the application is performing or behaving at runtime.\n",
        "\n",
        "\n",
        "22. What is the os module in Python used for in file handling?\n",
        "   - The os module in Python provides a way to interact with the operating system, and it includes several functions that are useful for file handling and managing the underlying file system. It helps you perform file and directory operations in a platform-independent manner, meaning the same code can work across different operating systems (Windows, macOS, Linux, etc.).\n",
        "\n",
        "\n",
        "23. What are the challenges associated with memory management in Python?\n",
        "   - Memory management in Python, while automatic thanks to its built-in garbage collection mechanism, still poses certain challenges. These challenges primarily stem from the nature of dynamic typing, automatic memory allocation, and the complexity of managing memory efficiently in a high-level language like Python. Here are some of the key challenges associated with memory management in Python:\n",
        "   1. Python uses an automatic memory management system that includes reference counting and garbage collection to reclaim unused memory. However, the garbage collector periodically scans objects to check for cycles (i.e., circular references) and may cause performance overhead during those operations.\n",
        "   2. Although Python's garbage collection mechanism is designed to prevent memory leaks, they can still occur in specific cases, especially with circular references or unintentional references.\n",
        "   3. Python uses reference counting to track the number of references to each object. If an object’s reference count never reaches zero (i.e., when there are still references to an object), it will not be deallocated, even if it is no longer used in the program.\n",
        "\n",
        "\n",
        "24. How do you raise an exception manually in Python?\n",
        "   - In Python, you can raise an exception manually using the raise keyword. This allows you to trigger an exception intentionally, either with a built-in exception or a custom exception that you define. Raising exceptions manually is useful when you want to enforce specific conditions or handle errors in a controlled manner within your program.\n",
        "\n",
        "\n",
        "25. Why is it important to use multithreading in certain applications?\n",
        "   - Using multithreading in certain applications is important for improving performance, efficiency, and responsiveness, especially in programs that perform tasks that can be done concurrently. Multithreading allows an application to perform multiple tasks at the same time, which is beneficial in many scenarios. Below are some key reasons why multithreading is important:\n",
        "   1. In I/O-bound applications, tasks like reading from files, making network requests, or waiting for input from users often take a significant amount of time. While one thread is waiting for an I/O operation to complete, other threads can continue processing other tasks.\n",
        "   2. For CPU-bound tasks (tasks that require a lot of computation), multithreading can sometimes help, especially when you have multiple CPU cores available. By running tasks in parallel, you can distribute the workload across multiple cores, taking advantage of the full processing power of the system.\n",
        "\n",
        "\n",
        "\n",
        "\n",
        "\n",
        "\n",
        "   \n",
        "\n",
        "\n"
      ],
      "metadata": {
        "id": "GuwRErwYbeC1"
      }
    },
    {
      "cell_type": "markdown",
      "source": [
        "1. How can you open a file for writing in Python and write a string to it?\n"
      ],
      "metadata": {
        "id": "BbOLyt0BwJ1z"
      }
    },
    {
      "cell_type": "code",
      "source": [
        "with open('file_name.txt', 'w') as file:\n",
        "    file.write(\"Your string here\")"
      ],
      "metadata": {
        "id": "bw0_Qh16wJAW"
      },
      "execution_count": 2,
      "outputs": []
    },
    {
      "cell_type": "markdown",
      "source": [
        "2.  Write a Python program to read the contents of a file and print each line?"
      ],
      "metadata": {
        "id": "Ll0NgOwCwawX"
      }
    },
    {
      "cell_type": "code",
      "source": [
        "with open('file_name.txt', 'r') as file:\n",
        "    for line in file:\n",
        "        print(line, end='')\n"
      ],
      "metadata": {
        "colab": {
          "base_uri": "https://localhost:8080/"
        },
        "id": "AwKS837jwkkA",
        "outputId": "65eea043-1d66-4376-bb0c-d1a892baecf5"
      },
      "execution_count": 4,
      "outputs": [
        {
          "output_type": "stream",
          "name": "stdout",
          "text": [
            "Your string here"
          ]
        }
      ]
    },
    {
      "cell_type": "markdown",
      "source": [
        "3. How would you handle a case where the file doesn't exist while trying to open it for reading?"
      ],
      "metadata": {
        "id": "VPx9hvyzw5ME"
      }
    },
    {
      "cell_type": "code",
      "source": [
        "try:\n",
        "    with open('example.txt', 'r') as file:\n",
        "        for line in file:\n",
        "            print(line, end='')\n",
        "except FileNotFoundError:\n",
        "    print(\"Error: The file does not exist.\")\n"
      ],
      "metadata": {
        "colab": {
          "base_uri": "https://localhost:8080/"
        },
        "id": "XBI2INIZxA9_",
        "outputId": "c39d2a9a-8208-4ed9-82da-028cfad476b9"
      },
      "execution_count": 5,
      "outputs": [
        {
          "output_type": "stream",
          "name": "stdout",
          "text": [
            "Error: The file does not exist.\n"
          ]
        }
      ]
    },
    {
      "cell_type": "markdown",
      "source": [
        "4. Write a Python script that reads from one file and writes its content to another file?"
      ],
      "metadata": {
        "id": "UmNjG-fHxI0X"
      }
    },
    {
      "cell_type": "code",
      "source": [
        "with open('file_name.txt', 'r') as source_file, open('destination_file.txt', 'w') as destination_file:\n",
        "    content = source_file.read()\n",
        "    destination_file.write(content)\n"
      ],
      "metadata": {
        "id": "dRmocLF4xPLJ"
      },
      "execution_count": 8,
      "outputs": []
    },
    {
      "cell_type": "markdown",
      "source": [
        "5. How would you catch and handle division by zero error in Python?"
      ],
      "metadata": {
        "id": "NFCxWZ0sxmYV"
      }
    },
    {
      "cell_type": "code",
      "source": [
        "try:\n",
        "    result = 10 / 0\n",
        "except ZeroDivisionError:\n",
        "    print(\"Error: Division by zero is not allowed.\")\n",
        "else:\n",
        "    print(f\"The result is {result}\")\n"
      ],
      "metadata": {
        "colab": {
          "base_uri": "https://localhost:8080/"
        },
        "id": "ANCMfhTpx1nF",
        "outputId": "89981310-5bd8-4d21-d04c-f73e843301d0"
      },
      "execution_count": 9,
      "outputs": [
        {
          "output_type": "stream",
          "name": "stdout",
          "text": [
            "Error: Division by zero is not allowed.\n"
          ]
        }
      ]
    },
    {
      "cell_type": "markdown",
      "source": [
        "6. Write a Python program that logs an error message to a log file when a division by zero exception occurs?\n"
      ],
      "metadata": {
        "id": "1P4mzLltxOXV"
      }
    },
    {
      "cell_type": "code",
      "source": [
        "import logging\n",
        "logging.basicConfig(filename='error_log.txt', level=logging.ERROR,\n",
        "                    format='%(asctime)s - %(levelname)s - %(message)s')\n",
        "\n",
        "try:\n",
        "    result = 10 / 0\n",
        "except ZeroDivisionError as e:\n",
        "    logging.error(f\"Error: {e}\")\n"
      ],
      "metadata": {
        "colab": {
          "base_uri": "https://localhost:8080/"
        },
        "id": "usY6ep5uyHM6",
        "outputId": "d6555136-e82b-49d0-b924-d7c668b5745f"
      },
      "execution_count": 10,
      "outputs": [
        {
          "output_type": "stream",
          "name": "stderr",
          "text": [
            "ERROR:root:Error: division by zero\n"
          ]
        }
      ]
    },
    {
      "cell_type": "markdown",
      "source": [
        "7.  How do you log information at different levels (INFO, ERROR, WARNING) in Python using the logging module?"
      ],
      "metadata": {
        "id": "zO6oWlc9yiWK"
      }
    },
    {
      "cell_type": "code",
      "source": [
        "import logging\n",
        "logging.basicConfig(filename='app_log.txt', level=logging.DEBUG,\n",
        "                    format='%(asctime)s - %(levelname)s - %(message)s')\n",
        "logging.debug(\"This is a debug message.\")\n",
        "logging.info(\"This is an info message.\")\n",
        "logging.warning(\"This is a warning message.\")\n",
        "logging.error(\"This is an error message.\")\n",
        "logging.critical(\"This is a critical message.\")\n"
      ],
      "metadata": {
        "colab": {
          "base_uri": "https://localhost:8080/"
        },
        "id": "7FJqiRaFynAV",
        "outputId": "1740ac1a-a3af-4d2f-b1c5-59ef2149c59d"
      },
      "execution_count": 11,
      "outputs": [
        {
          "output_type": "stream",
          "name": "stderr",
          "text": [
            "WARNING:root:This is a warning message.\n",
            "ERROR:root:This is an error message.\n",
            "CRITICAL:root:This is a critical message.\n"
          ]
        }
      ]
    },
    {
      "cell_type": "markdown",
      "source": [
        "8. Write a program to handle a file opening error using exception handling?"
      ],
      "metadata": {
        "id": "UkYvuTYcy125"
      }
    },
    {
      "cell_type": "code",
      "source": [
        "try:\n",
        "    with open('file_name.txt', 'r') as file:\n",
        "        content = file.read()\n",
        "        print(content)\n",
        "except FileNotFoundError:\n",
        "    print(\"Error: The file does not exist.\")\n",
        "except PermissionError:\n",
        "    print(\"Error: You don't have permission to open the file.\")\n",
        "except Exception as e:\n",
        "    print(f\"An unexpected error occurred: {e}\")\n"
      ],
      "metadata": {
        "colab": {
          "base_uri": "https://localhost:8080/"
        },
        "id": "3llSREWry8LV",
        "outputId": "025c1193-39d6-493e-cacf-ebbb122822de"
      },
      "execution_count": 13,
      "outputs": [
        {
          "output_type": "stream",
          "name": "stdout",
          "text": [
            "Your string here\n"
          ]
        }
      ]
    },
    {
      "cell_type": "markdown",
      "source": [
        "9.  How can you read a file line by line and store its content in a list in Python?"
      ],
      "metadata": {
        "id": "rrvTUbmHzeti"
      }
    },
    {
      "cell_type": "code",
      "source": [
        "lines_list = []\n",
        "with open('file_name.txt', 'r') as file:\n",
        "    for line in file:\n",
        "        lines_list.append(line.strip())\n",
        "print(lines_list)\n"
      ],
      "metadata": {
        "colab": {
          "base_uri": "https://localhost:8080/"
        },
        "id": "nx0EyH1Qzmq7",
        "outputId": "bb5711a9-5e8e-40db-bd7b-845289eb6c69"
      },
      "execution_count": 16,
      "outputs": [
        {
          "output_type": "stream",
          "name": "stdout",
          "text": [
            "['Your string here']\n"
          ]
        }
      ]
    },
    {
      "cell_type": "markdown",
      "source": [
        "10. How can you append data to an existing file in Python?"
      ],
      "metadata": {
        "id": "c_ycU3Xe0Zqg"
      }
    },
    {
      "cell_type": "code",
      "source": [
        "with open('example.txt', 'a') as file:\n",
        "    file.write('This is a new line added to the file.\\n')\n",
        "    file.write('Another line of text.\\n')\n",
        "\n",
        "print(\"Data has been appended to the file.\")\n"
      ],
      "metadata": {
        "colab": {
          "base_uri": "https://localhost:8080/"
        },
        "id": "hode4saZ0lUY",
        "outputId": "bdc5d126-a539-4f5a-c265-28b8c733bebc"
      },
      "execution_count": 17,
      "outputs": [
        {
          "output_type": "stream",
          "name": "stdout",
          "text": [
            "Data has been appended to the file.\n"
          ]
        }
      ]
    },
    {
      "cell_type": "markdown",
      "source": [
        "11. Write a Python program that uses a try-except block to handle an error when attempting to access a dictionary key that doesn't exist?"
      ],
      "metadata": {
        "id": "AGbK3TUP03jC"
      }
    },
    {
      "cell_type": "code",
      "source": [
        "my_dict = {'name': 'John', 'age': 30, 'city': 'New York'}\n",
        "key_to_access = 'address'\n",
        "\n",
        "try:\n",
        "    value = my_dict[key_to_access]\n",
        "    print(f\"The value for '{key_to_access}' is {value}.\")\n",
        "except KeyError:\n",
        "    print(f\"Error: The key '{key_to_access}' does not exist in the dictionary.\")\n"
      ],
      "metadata": {
        "colab": {
          "base_uri": "https://localhost:8080/"
        },
        "id": "Iqw3K1yg1Cp_",
        "outputId": "8c2a0e85-bb1c-4434-d7b2-c73656061ef1"
      },
      "execution_count": 18,
      "outputs": [
        {
          "output_type": "stream",
          "name": "stdout",
          "text": [
            "Error: The key 'address' does not exist in the dictionary.\n"
          ]
        }
      ]
    },
    {
      "cell_type": "markdown",
      "source": [
        "12. Write a program that demonstrates using multiple except blocks to handle different types of exceptions?"
      ],
      "metadata": {
        "id": "bEJqNAXj1fUK"
      }
    },
    {
      "cell_type": "code",
      "source": [
        "try:\n",
        "    # Example 1: Division by zero error\n",
        "    x = int(input(\"Enter a numerator: \"))\n",
        "    y = int(input(\"Enter a denominator: \"))\n",
        "    result = x / y\n",
        "    print(f\"Result: {result}\")\n",
        "\n",
        "    # Example 2: Value error while converting input to an integer\n",
        "    num = int(input(\"Enter a number: \"))\n",
        "    print(f\"You entered: {num}\")\n",
        "\n",
        "    # Example 3: Attempt to open a non-existent file\n",
        "    filename = input(\"Enter a filename to read: \")\n",
        "    with open(filename, 'r') as file:\n",
        "        content = file.read()\n",
        "    print(\"File content successfully read.\")\n",
        "\n",
        "except ZeroDivisionError:\n",
        "    print(\"Error: Cannot divide by zero.\")\n",
        "except ValueError:\n",
        "    print(\"Error: Invalid input, please enter a valid integer.\")\n",
        "except FileNotFoundError:\n",
        "    print(\"Error: File not found. Please check the file path.\")\n",
        "except Exception as e:\n",
        "    # Catch any other unexpected exceptions\n",
        "    print(f\"An unexpected error occurred: {e}\")\n"
      ],
      "metadata": {
        "colab": {
          "base_uri": "https://localhost:8080/"
        },
        "id": "cHJhWGSy1vTU",
        "outputId": "97f6a586-35b1-40b7-9785-da1594c68746"
      },
      "execution_count": 19,
      "outputs": [
        {
          "output_type": "stream",
          "name": "stdout",
          "text": [
            "Enter a numerator: 25\n",
            "Enter a denominator: 5\n",
            "Result: 5.0\n",
            "Enter a number: 8\n",
            "You entered: 8\n",
            "Enter a filename to read: file_name.txt\n",
            "File content successfully read.\n"
          ]
        }
      ]
    },
    {
      "cell_type": "markdown",
      "source": [
        "13. How would you check if a file exists before attempting to read it in Python?"
      ],
      "metadata": {
        "id": "ZZudELZn2mdl"
      }
    },
    {
      "cell_type": "code",
      "source": [
        "import os\n",
        "\n",
        "filename = 'example.txt'\n",
        "\n",
        "# Check if the file exists\n",
        "if os.path.exists(filename):\n",
        "    with open(filename, 'r') as file:\n",
        "        content = file.read()\n",
        "    print(\"File content:\")\n",
        "    print(content)\n",
        "else:\n",
        "    print(f\"Error: The file '{filename}' does not exist.\")\n"
      ],
      "metadata": {
        "colab": {
          "base_uri": "https://localhost:8080/"
        },
        "id": "26e40V4c2wfz",
        "outputId": "d02d0cb6-dc2a-4d04-e9a2-ca078a66a37b"
      },
      "execution_count": 20,
      "outputs": [
        {
          "output_type": "stream",
          "name": "stdout",
          "text": [
            "File content:\n",
            "This is a new line added to the file.\n",
            "Another line of text.\n",
            "\n"
          ]
        }
      ]
    },
    {
      "cell_type": "markdown",
      "source": [
        "14. Write a program that uses the logging module to log both informational and error messages?"
      ],
      "metadata": {
        "id": "kO6iAa_v2vi4"
      }
    },
    {
      "cell_type": "code",
      "source": [
        "import logging\n",
        "logging.basicConfig(\n",
        "    level=logging.DEBUG,\n",
        "    format='%(asctime)s - %(levelname)s - %(message)s',\n",
        "    filename='app_log.txt',  # Log to this file\n",
        "    filemode='a'  # Append to the file\n",
        ")\n",
        "\n",
        "logging.info(\"This is an informational message.\")\n",
        "\n",
        "try:\n",
        "    result = 10 / 0\n",
        "except ZeroDivisionError as e:\n",
        "    logging.error(f\"Error occurred: {e}\")\n",
        "\n",
        "# Another informational message\n",
        "logging.info(\"This is another informational message after handling the error.\")\n"
      ],
      "metadata": {
        "colab": {
          "base_uri": "https://localhost:8080/"
        },
        "id": "uN3hT_q63BmF",
        "outputId": "4df4daaa-3a53-42eb-d803-46afcae2f39c"
      },
      "execution_count": 21,
      "outputs": [
        {
          "output_type": "stream",
          "name": "stderr",
          "text": [
            "ERROR:root:Error occurred: division by zero\n"
          ]
        }
      ]
    },
    {
      "cell_type": "markdown",
      "source": [
        "15. Write a Python program that prints the content of a file and handles the case when the file is empty?"
      ],
      "metadata": {
        "id": "FLmtEM8W35RN"
      }
    },
    {
      "cell_type": "code",
      "source": [
        "def print_file_content(filename):\n",
        "    try:\n",
        "        with open(filename, 'r') as file:\n",
        "            content = file.read()\n",
        "\n",
        "            if content:\n",
        "                print(\"File Content:\")\n",
        "                print(content)\n",
        "            else:\n",
        "                print(\"The file is empty.\")\n",
        "\n",
        "    except FileNotFoundError:\n",
        "        print(f\"Error: The file '{filename}' does not exist.\")\n",
        "    except Exception as e:\n",
        "        print(f\"An unexpected error occurred: {e}\")\n",
        "filename = 'example.txt'\n",
        "print_file_content(filename)\n"
      ],
      "metadata": {
        "colab": {
          "base_uri": "https://localhost:8080/"
        },
        "id": "Vln_9ZBe3-ju",
        "outputId": "a5ba1931-221d-4424-b96c-2649659549fd"
      },
      "execution_count": 22,
      "outputs": [
        {
          "output_type": "stream",
          "name": "stdout",
          "text": [
            "File Content:\n",
            "This is a new line added to the file.\n",
            "Another line of text.\n",
            "\n"
          ]
        }
      ]
    },
    {
      "cell_type": "markdown",
      "source": [
        "16.  Demonstrate how to use memory profiling to check the memory usage of a small program?"
      ],
      "metadata": {
        "id": "hKrg5wJM4LTo"
      }
    },
    {
      "cell_type": "code",
      "source": [
        "pip install memory-profiler\n"
      ],
      "metadata": {
        "colab": {
          "base_uri": "https://localhost:8080/"
        },
        "id": "Y9Hfx0lT5WWm",
        "outputId": "78ba118b-ffc9-4c41-e321-56573cc52b0d"
      },
      "execution_count": 25,
      "outputs": [
        {
          "output_type": "stream",
          "name": "stdout",
          "text": [
            "Collecting memory-profiler\n",
            "  Downloading memory_profiler-0.61.0-py3-none-any.whl.metadata (20 kB)\n",
            "Requirement already satisfied: psutil in /usr/local/lib/python3.11/dist-packages (from memory-profiler) (5.9.5)\n",
            "Downloading memory_profiler-0.61.0-py3-none-any.whl (31 kB)\n",
            "Installing collected packages: memory-profiler\n",
            "Successfully installed memory-profiler-0.61.0\n"
          ]
        }
      ]
    },
    {
      "cell_type": "code",
      "source": [
        "from  memory_profiler import profile\n",
        "@profile\n",
        "def calculate_squares():\n",
        "    squares = []\n",
        "    for i in range(1, 10000):\n",
        "        squares.append(i ** 2)\n",
        "    return squares\n",
        "\n",
        "if __name__ == \"__main__\":\n",
        "    print(\"Memory profiling demonstration:\")\n",
        "    calculate_squares()\n"
      ],
      "metadata": {
        "colab": {
          "base_uri": "https://localhost:8080/"
        },
        "id": "mQzV0zf44a2L",
        "outputId": "8e575061-81ea-4917-8e42-dab1612b8bec"
      },
      "execution_count": 26,
      "outputs": [
        {
          "output_type": "stream",
          "name": "stderr",
          "text": [
            "\n",
            "PYDEV DEBUGGER WARNING:\n",
            "sys.settrace() should not be used when the debugger is being used.\n",
            "This may cause the debugger to stop working correctly.\n",
            "If this is needed, please check: \n",
            "http://pydev.blogspot.com/2007/06/why-cant-pydev-debugger-work-with.html\n",
            "to see how to restore the debug tracing back correctly.\n",
            "Call Location:\n",
            "  File \"/usr/local/lib/python3.11/dist-packages/memory_profiler.py\", line 847, in enable\n",
            "    sys.settrace(self.trace_memory_usage)\n",
            "\n",
            "\n",
            "PYDEV DEBUGGER WARNING:\n",
            "sys.settrace() should not be used when the debugger is being used.\n",
            "This may cause the debugger to stop working correctly.\n",
            "If this is needed, please check: \n",
            "http://pydev.blogspot.com/2007/06/why-cant-pydev-debugger-work-with.html\n",
            "to see how to restore the debug tracing back correctly.\n",
            "Call Location:\n",
            "  File \"/usr/local/lib/python3.11/dist-packages/memory_profiler.py\", line 850, in disable\n",
            "    sys.settrace(self._original_trace_function)\n",
            "\n"
          ]
        },
        {
          "output_type": "stream",
          "name": "stdout",
          "text": [
            "Memory profiling demonstration:\n",
            "ERROR: Could not find file <ipython-input-26-e85941311d3c>\n",
            "NOTE: %mprun can only be used on functions defined in physical files, and not in the IPython environment.\n"
          ]
        }
      ]
    },
    {
      "cell_type": "markdown",
      "source": [
        "17. Write a Python program to create and write a list of numbers to a file, one number per line?"
      ],
      "metadata": {
        "id": "fexQFtEi5cRg"
      }
    },
    {
      "cell_type": "code",
      "source": [
        "# List of numbers\n",
        "numbers = [1, 2, 3, 4, 5, 6, 7, 8, 9, 10]\n",
        "\n",
        "# Open a file in write mode ('w')\n",
        "with open('numbers.txt', 'w') as file:\n",
        "    # Write each number to the file, one per line\n",
        "    for number in numbers:\n",
        "        file.write(f\"{number}\\n\")\n",
        "\n",
        "print(\"Numbers have been written to 'numbers.txt'.\")\n"
      ],
      "metadata": {
        "colab": {
          "base_uri": "https://localhost:8080/"
        },
        "id": "h5oeKymq5iR4",
        "outputId": "7f625138-15a8-44f3-e0c1-5d1ae169dfee"
      },
      "execution_count": 27,
      "outputs": [
        {
          "output_type": "stream",
          "name": "stdout",
          "text": [
            "Numbers have been written to 'numbers.txt'.\n"
          ]
        }
      ]
    },
    {
      "cell_type": "markdown",
      "source": [
        "18.  How would you implement a basic logging setup that logs to a file with rotation after 1MB?"
      ],
      "metadata": {
        "id": "J4cvMfe-5squ"
      }
    },
    {
      "cell_type": "code",
      "source": [
        "import logging\n",
        "from logging.handlers import RotatingFileHandler\n",
        "log_handler = RotatingFileHandler('app.log', maxBytes=1e6, backupCount=3)\n",
        "logger = logging.getLogger('MyLogger')\n",
        "logger.setLevel(logging.DEBUG)\n",
        "log_formatter = logging.Formatter('%(asctime)s - %(levelname)s - %(message)s')\n",
        "log_handler.setFormatter(log_formatter)\n",
        "logger.addHandler(log_handler)\n",
        "logger.debug(\"This is a debug message.\")\n",
        "logger.info(\"This is an info message.\")\n",
        "logger.warning(\"This is a warning message.\")\n",
        "logger.error(\"This is an error message.\")\n",
        "logger.critical(\"This is a critical message.\")\n"
      ],
      "metadata": {
        "colab": {
          "base_uri": "https://localhost:8080/"
        },
        "id": "boX-garL5xx1",
        "outputId": "dcd604e3-97d0-404c-d3ff-cf28736236d1"
      },
      "execution_count": 28,
      "outputs": [
        {
          "output_type": "stream",
          "name": "stderr",
          "text": [
            "DEBUG:MyLogger:This is a debug message.\n",
            "INFO:MyLogger:This is an info message.\n",
            "WARNING:MyLogger:This is a warning message.\n",
            "ERROR:MyLogger:This is an error message.\n",
            "CRITICAL:MyLogger:This is a critical message.\n"
          ]
        }
      ]
    },
    {
      "cell_type": "markdown",
      "source": [
        "19. Write a program that handles both IndexError and KeyError using a try-except block?\n",
        ""
      ],
      "metadata": {
        "id": "Ojtd3AgN6LJk"
      }
    },
    {
      "cell_type": "code",
      "source": [
        "# Define a sample list and dictionary\n",
        "sample_list = [1, 2, 3, 4, 5]\n",
        "sample_dict = {'name': 'Alice', 'age': 30}\n",
        "\n",
        "# Function to demonstrate handling IndexError and KeyError\n",
        "def handle_errors():\n",
        "    try:\n",
        "        # Trying to access an invalid index in the list (IndexError)\n",
        "        print(\"Trying to access index 10 in the list:\")\n",
        "        print(sample_list[10])  # This will raise IndexError\n",
        "\n",
        "        # Trying to access a non-existent key in the dictionary (KeyError)\n",
        "        print(\"\\nTrying to access 'address' key in the dictionary:\")\n",
        "        print(sample_dict['address'])  # This will raise KeyError\n",
        "\n",
        "    except IndexError as ie:\n",
        "        print(f\"IndexError occurred: {ie}\")\n",
        "\n",
        "    except KeyError as ke:\n",
        "        print(f\"KeyError occurred: {ke}\")\n",
        "\n",
        "# Call the function to handle errors\n",
        "handle_errors()\n"
      ],
      "metadata": {
        "colab": {
          "base_uri": "https://localhost:8080/"
        },
        "id": "liAwsXik6WuM",
        "outputId": "26b247aa-791f-48ad-8f92-6f43b9c10a03"
      },
      "execution_count": 30,
      "outputs": [
        {
          "output_type": "stream",
          "name": "stdout",
          "text": [
            "Trying to access index 10 in the list:\n",
            "IndexError occurred: list index out of range\n"
          ]
        }
      ]
    },
    {
      "cell_type": "markdown",
      "source": [
        "20. How would you open a file and read its contents using a context manager in Python?"
      ],
      "metadata": {
        "id": "c36pXlcM6Tw3"
      }
    },
    {
      "cell_type": "code",
      "source": [
        "# Open the file using a context manager to read its contents\n",
        "with open('example.txt', 'r') as file:\n",
        "    # Read the entire content of the file\n",
        "    content = file.read()\n",
        "\n",
        "# After the 'with' block, the file is automatically closed\n",
        "print(content)\n"
      ],
      "metadata": {
        "colab": {
          "base_uri": "https://localhost:8080/"
        },
        "id": "Vm1xnWsY6c9J",
        "outputId": "8cf314e4-822e-4361-e706-3d647b1eb0de"
      },
      "execution_count": 29,
      "outputs": [
        {
          "output_type": "stream",
          "name": "stdout",
          "text": [
            "This is a new line added to the file.\n",
            "Another line of text.\n",
            "\n"
          ]
        }
      ]
    },
    {
      "cell_type": "markdown",
      "source": [
        "21. Write a Python program that reads a file and prints the number of occurrences of a specific word?\n"
      ],
      "metadata": {
        "id": "BvSYaeu36tWJ"
      }
    },
    {
      "cell_type": "code",
      "source": [
        "def count_word_occurrences(file_path, word_to_count):\n",
        "    try:\n",
        "        # Open the file in read mode\n",
        "        with open(file_path, 'r') as file:\n",
        "            # Read the contents of the file\n",
        "            content = file.read()\n",
        "\n",
        "            # Split the content into words (splitting by spaces)\n",
        "            words = content.split()\n",
        "\n",
        "            # Count the occurrences of the word (case-insensitive)\n",
        "            word_count = words.count(word_to_count.lower())\n",
        "\n",
        "            print(f\"The word '{word_to_count}' appears {word_count} time(s) in the file.\")\n",
        "\n",
        "    except FileNotFoundError:\n",
        "        print(f\"The file '{file_path}' does not exist.\")\n",
        "    except Exception as e:\n",
        "        print(f\"An error occurred: {e}\")\n",
        "\n",
        "# Example usage:\n",
        "file_path = 'example.txt'  # Replace with your file path\n",
        "word_to_count = 'Python'   # Replace with the word you want to count\n",
        "count_word_occurrences(file_path, word_to_count)\n"
      ],
      "metadata": {
        "colab": {
          "base_uri": "https://localhost:8080/"
        },
        "id": "9uTt56Te74Nn",
        "outputId": "5c099099-e8ab-47cd-fdea-bdfbce07e452"
      },
      "execution_count": 35,
      "outputs": [
        {
          "output_type": "stream",
          "name": "stdout",
          "text": [
            "The word 'Python' appears 0 time(s) in the file.\n"
          ]
        }
      ]
    },
    {
      "cell_type": "markdown",
      "source": [
        "22. How can you check if a file is empty before attempting to read its contents?\n"
      ],
      "metadata": {
        "id": "LuFnEOXj60cU"
      }
    },
    {
      "cell_type": "code",
      "source": [
        "import os\n",
        "\n",
        "def is_file_empty(file_path):\n",
        "    # Check if the file exists and if it has a size of 0 bytes\n",
        "    return os.path.exists(file_path) and os.path.getsize(file_path) == 0\n",
        "\n",
        "def read_file(file_path):\n",
        "    if is_file_empty(file_path):\n",
        "        print(f\"The file '{file_path}' is empty.\")\n",
        "    else:\n",
        "        with open(file_path, 'r') as file:\n",
        "            content = file.read()\n",
        "            print(\"File content:\")\n",
        "            print(content)\n",
        "\n",
        "# Example usage:\n",
        "file_path = 'example.txt'\n",
        "read_file(file_path)\n"
      ],
      "metadata": {
        "colab": {
          "base_uri": "https://localhost:8080/"
        },
        "id": "GmtpB9YX7nRN",
        "outputId": "171f08fd-2b44-4103-d9e6-23f8b5f00a4f"
      },
      "execution_count": 34,
      "outputs": [
        {
          "output_type": "stream",
          "name": "stdout",
          "text": [
            "File content:\n",
            "This is a new line added to the file.\n",
            "Another line of text.\n",
            "\n"
          ]
        }
      ]
    },
    {
      "cell_type": "markdown",
      "source": [
        "23. Write a Python program that writes to a log file when an error occurs during file handling.\n"
      ],
      "metadata": {
        "id": "BrpkJ0yI67qk"
      }
    },
    {
      "cell_type": "code",
      "source": [
        "import logging\n",
        "\n",
        "# Set up logging configuration\n",
        "logging.basicConfig(\n",
        "    filename='file_error.log',  # Log file to store the error messages\n",
        "    level=logging.ERROR,        # Only log ERROR and higher severity messages\n",
        "    format='%(asctime)s - %(levelname)s - %(message)s'\n",
        ")\n",
        "\n",
        "def read_file(file_name):\n",
        "    try:\n",
        "        # Attempt to open and read from the file\n",
        "        with open(file_name, 'r') as file:\n",
        "            content = file.read()\n",
        "            print(content)  # Print the content of the file\n",
        "    except Exception as e:\n",
        "        # Log the error if there is an issue with file handling\n",
        "        logging.error(f\"Error occurred while handling the file '{file_name}': {e}\")\n",
        "\n",
        "def write_to_file(file_name, content):\n",
        "    try:\n",
        "        # Attempt to open the file and write to it\n",
        "        with open(file_name, 'w') as file:\n",
        "            file.write(content)\n",
        "            print(f\"Content written to {file_name}\")\n",
        "    except Exception as e:\n",
        "        # Log the error if there is an issue with file handling\n",
        "        logging.error(f\"Error occurred while writing to the file '{file_name}': {e}\")\n",
        "\n",
        "# Example usage:\n",
        "# Trying to read from a non-existent file to trigger an error\n",
        "read_file('non_existent_file.txt')\n",
        "\n",
        "write_to_file('output.txt', 'This is a test content.')\n"
      ],
      "metadata": {
        "colab": {
          "base_uri": "https://localhost:8080/"
        },
        "id": "-sw4v0xn7lQV",
        "outputId": "dc619d97-14e2-4977-f1e3-6fe3508a24d3"
      },
      "execution_count": 33,
      "outputs": [
        {
          "output_type": "stream",
          "name": "stderr",
          "text": [
            "ERROR:root:Error occurred while handling the file 'non_existent_file.txt': [Errno 2] No such file or directory: 'non_existent_file.txt'\n"
          ]
        },
        {
          "output_type": "stream",
          "name": "stdout",
          "text": [
            "Content written to output.txt\n"
          ]
        }
      ]
    }
  ]
}